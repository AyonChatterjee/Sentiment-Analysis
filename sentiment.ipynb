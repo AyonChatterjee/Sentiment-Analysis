{
 "cells": [
  {
   "cell_type": "markdown",
   "metadata": {},
   "source": [
    "This is the basic level project for Sentiment Analysis where I am goint to do some important things like text preprocessing , calculating corpus and vocabulary.It also involves encoding the text as a vector where each word in the vocabulary corresponds to a binary value. After that , I am also going to text representations using Bag of Bi-grams and Tri-grams and TF-IDF."
   ]
  }
 ],
 "metadata": {
  "language_info": {
   "name": "python"
  }
 },
 "nbformat": 4,
 "nbformat_minor": 2
}
